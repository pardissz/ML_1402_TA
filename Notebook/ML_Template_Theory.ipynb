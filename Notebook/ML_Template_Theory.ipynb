{
  "cells": [
    {
      "cell_type": "markdown",
      "id": "da5ef68b",
      "metadata": {
        "id": "da5ef68b"
      },
      "source": [
        "<div align=center dir=rtl>\n",
        "<font face=\"vazir\" size=5>\n",
        "به نام خدا\n",
        "</font>\n",
        "<br> <br>\n",
        "<font face=\"vazir\"size=3>\n",
        "دانشگاه صنعتی شریف - دانشکده مهندسی کامپیوتر\n",
        "</font>\n",
        "<br> <br>\n",
        "    \n",
        "<font face=\"vazir\" color=red size=5>\n",
        "مقدمه‌ای بر یادگیری ماشین\n",
        "</font>\n",
        "\n",
        "<hr/> <br>\n",
        "    \n",
        "<font face=\"vazir\" color=#228B22 size=8>\n",
        "<b>فصل اول: یادگیری ماشین کلاسیک\n",
        "\n",
        "</font>\n",
        "    \n",
        "<br><br>\n",
        "\n",
        "<font face=\"vazir\" size=2>\n",
        "پردیس زهرایی، حمیدرضا بژکول</font>\n",
        "<hr>\n",
        "\n",
        "</div>"
      ]
    },
    {
      "cell_type": "markdown",
      "id": "5aa2644e",
      "metadata": {
        "id": "5aa2644e"
      },
      "source": [
        "<font face=\"vazir\">\n",
        "<div dir=rtl align=right>\n",
        "<div id=\"table-of-contents\">\n",
        "  <h1 align=center><font face=\"vazir\" color=#00008B >فهرست مطالب</font></h1>\n",
        "    \n",
        "  <ul>\n",
        "    <li><a href=\"#intro\">مقدمه</a>\n",
        "    <li><a href=\"#regression\">رگرسیون </a>\n",
        "      <ul>\n",
        "        <li><a href=\"#linear\">رگرسیون خطی </a></li>\n",
        "        <li><a href=\"#logistic\">رگرسیون لجستیک</a></li>\n",
        "                <li><a href=\"#desicion\">درخت تصمیم </a></li>\n",
        "\n",
        "  </ul>\n",
        "        <li><a href=\"#core\">مفاهیم اصلی  </a></li>\n",
        "   <ul>\n",
        "        <li><a href=\"#loss\"> loss function</a></li>\n",
        "        <li><a href=\"#valid\"> validation</a></li>\n",
        "        <li><a href=\"#acc\"> درستی</a></li>\n",
        "        <li><a href=\"#cu\"> ماتریس confusion</a></li>\n",
        "        <li><a href=\"#recall\"> Recall</a></li>\n",
        "        <li><a href=\"#F\"> امتیاز F1</a></li>\n",
        "        <li><a href=\"#Tradeoff\"> Precision/Recall Tradeoff</a></li>\n",
        "        <li><a href=\"#ROC\"> ROC</a></li>\n",
        "        <li><a href=\"#AUC\"> AUC</a></li>\n",
        "        <li><a href=\"#Regularization\"> Regularization</a></li>\n",
        "        <li><a href=\"#Bias\"> Bias-Variance Tradeoff</a></li>\n",
        "\n",
        "  </ul>\n",
        "       <li><a href=\"#Ensemble\">  Ensemble Methods</a>\n",
        "      <ul>\n",
        "        <li><a href=\"#Bagging\">  Bagging  </a></li>\n",
        "                <li><a href=\"#Boosting\">  Boosting  </a></li>\n",
        "          </ul>\n",
        "  </ul>    \n",
        "</div>\n",
        "</font>"
      ]
    },
    {
      "cell_type": "markdown",
      "source": [
        "\n",
        "<div dir=rtl id=\"intro\">\n",
        "    <h1>\n",
        "        <font face=\"vazir\" color=#0000CD size=7>مقدمه</font>\n",
        "    </h1>\n",
        "    <hr>\n",
        "    <div dir=rtl>\n",
        "        <font face=\"vazir\" size=4>\n",
        "          به دنیای یادگیری ماشین کلاسیک خوش آمدید! این دوره شما را با انواع الگوریتم های بنیادی و قدرتمند آشنا می کند. در ابتدا ما با رگرسیون خطی (Linear Regression) ،یک تکنیک مدل‌سازی پیش‌بینی اولیه، و درخت‌های تصمیم یا رگرسیون لجستیک (Logistic Regression) ، که برای نتایج طبقه‌بندی شده استفاده می‌شوند، شروع می‌کنیم. ما همچنین به مفاهیم  Loss، Validation، Regularization  و Bias-Variance Tradeoff خواهیم پرداخت - که همگی برای درک نحوه ارزیابی و بهبود مدل‌هایمان ضروری هستند.\n",
        "در ادامه روش های Bagging و Boosting را بررسی خواهیم کرد که چندین مدل را برای بهبود دقت ادغام می کنند. همچنین ماشین‌های بردار پشتیبان (SVM) را مطالعه خواهیم کرد، یک الگوریتم همه کاره که برای کارهای طبقه‌بندی و رگرسیون استفاده می‌شود، همراه با روش‌های کرنل که  SVM‌ها را قادر می‌سازد تا ساختارهای پیچیده‌تری را مدیریت کنند.\n",
        "\n"
      ],
      "metadata": {
        "id": "UYCl33HspP96"
      },
      "id": "UYCl33HspP96"
    },
    {
      "cell_type": "markdown",
      "id": "1ea7524a-0055-4347-bb45-b5c37cc819c4",
      "metadata": {
        "id": "1ea7524a-0055-4347-bb45-b5c37cc819c4"
      },
      "source": [
        "<div dir=rtl id=\"regression\">\n",
        "    <h1>\n",
        "        <font face=\"vazir\" color=#0000CD size=7>رگرسیون</font>\n",
        "    </h1>\n",
        "    <hr>\n",
        "</div>\n",
        "<font face=\"vazir\" size=4><div dir=rtl>\n",
        "رگرسیون چیست؟\n",
        "رگرسیون روابط بین متغیرها را جستجو می کند. به عنوان مثال، می توانید چندین کارمند یک شرکت را مشاهده کنید و سعی کنید بفهمید که حقوق آنها چگونه به ویژگی های آنها بستگی دارد، مانند تجربه، سطح تحصیلات، نقش، شهر محل کار و غیره.\n",
        "این یک مشکل رگرسیونی است که در آن داده های مربوط به هر کارمند یک مشاهده را نشان می دهد. فرض بر این است که تجربه، تحصیلات، نقش و شهر ویژگی های مستقلی هستند در حالی که دستمزد به آنها بستگی دارد.\n",
        "</div></font>\n",
        "<font face=\"vazir\" size=4><div dir=rtl>\n",
        "به همین ترتیب، می توانید سعی کنید وابستگی ریاضی قیمت مسکن به مساحت، تعداد اتاق خواب، فاصله تا مرکز شهر و غیره را تعیین کنید.\n",
        "به طور کلی، در تحلیل رگرسیون، شما یک پدیده را در نظر می گیرید و تعدادی مشاهدات دارید. هر مشاهده دو یا چند ویژگی دارد. با این فرض که حداقل یکی از ویژگی ها به سایرین بستگی دارد، سعی می کنید بین آنها رابطه برقرار کنید.\n",
        "به عبارت دیگر، باید تابعی را پیدا کنید که برخی از ویژگی ها یا متغیرها را به خوبی به دیگران نگاشت کند.\n",
        "</div></font>\n",
        "<font face=\"vazir\" size=4><div dir=rtl>\n",
        "ویژگی های وابسته را متغیرهای وابسته، خروجی یا پاسخ می نامند. ویژگی های مستقل را متغیرهای مستقل، ورودی ها یا پیش بینی کننده ها می نامند.\n",
        "مسائل رگرسیون معمولا دارای یک متغیر وابسته پیوسته و نامحدود هستند. با این حال، ورودی‌ها می‌توانند داده‌های پیوسته، گسسته یا حتی طبقه‌بندی شده مانند جنسیت یا ملیت باشند.\n",
        "</div></font>\n",
        "<font face=\"vazir\" size=4><div dir=rtl>\n",
        " خروجی ها را با 𝑦 و ورودی ها را با 𝑥 نشان می دهند. اگر دو یا چند متغیر مستقل وجود داشته باشد، می‌توان آنها را به صورت بردار 𝐱 = (𝑥₁, …, 𝑥ᵣ)\n",
        " نشان می دهند که در آن r تعداد ورودی است.\n",
        " </div></font>\n"
      ]
    },
    {
      "cell_type": "markdown",
      "source": [
        "<div dir=rtl id=\"linear\">\n",
        "    <h2>\n",
        "        <font face=\"vazir\" color=#FF8C00 size=6>رگرسیون خطی</font>\n",
        "    </h2>\n",
        "    <hr>\n",
        "</div>\n",
        "\n",
        "<font face=\"vazir\" size=4><div dir=rtl>\n",
        "**رگرسیون خطی** یکی از مهم ترین و پرکاربردترین تکنیک های رگرسیون است. یکی از مزایای اصلی آن سهولت در تفسیر نتایج است.\n",
        "هنگام اجرای رگرسیون خطی شما یک رابطه خطی بین 𝑦 و x به صورت زیر دارید:\n",
        "<br><div align=center> 𝑦 = 𝛽₀ + 𝛽₁𝑥₁ + ⋯ + 𝛽ᵣ𝑥ᵣ + 𝜀 </div>\n",
        "</div></font>\n",
        "<font face=\"vazir\" size=4><div dir=rtl>\n",
        "این معادله معادله رگرسیون است. 𝛽₀، 𝛽₁، …، 𝛽ᵣ ضرایب رگرسیون و 𝜀 خطای تصادفی است.\n",
        "</div></font>\n",
        "<font face=\"vazir\" size=4><div dir=rtl>\n",
        "رگرسیون خطی تخمین‌گرهای ضرایب رگرسیون یا وزن‌های پیش‌بینی‌شده را محاسبه می‌کند که با علامت‌های 𝑏₀، 𝑏₁، …، 𝑏ᵣ نشان داده شده است. این تخمین‌گرها تابع رگرسیون تخمین زده شده را تعریف می‌کنند.\n",
        " <br><div align=center>\n",
        "𝑓(𝐱) = 𝑏₀ + 𝑏₁𝑥₁ + ⋯ + 𝑏ᵣ𝑥ᵣ.\n",
        "</div>\n",
        "</div></font>\n",
        "<font face=\"vazir\" size=4><div dir=rtl>\n",
        "پاسخ تخمینی یا پیش‌بینی‌شده، 𝑓(𝐱ᵢ)، برای هر مشاهده 𝑖 = 1، …، 𝑛، باید تا حد امکان به پاسخ واقعی مربوطه نزدیک باشد. تفاوت های 𝑦ᵢ - 𝑓(𝐱ᵢ) برای همه مشاهدات 𝑖 = 1، …، 𝑛، باقیمانده یا (residuals) نامیده می شود. هدف رگرسیون تعیین بهترین وزن های پیش بینی شده است - یعنی وزن های مربوط به کوچکترین باقیمانده ها.\n",
        "برای بدست آوردن بهترین وزن‌ها، معمولاً باید مجموع مجذور باقیمانده (SSR) را برای همه مشاهدات به حداقل برسانیم. این رویکرد را روش حداقل مربعات معمولی (ordinary least squares) می نامند.\n",
        "</div></font>"
      ],
      "metadata": {
        "id": "V_BWWfNPvGp6"
      },
      "id": "V_BWWfNPvGp6"
    },
    {
      "cell_type": "markdown",
      "source": [
        "<div dir=rtl id=\"logistic\">\n",
        "    <h2>\n",
        "        <font face=\"vazir\" color=#FF8C00 size=6>رگرسیون لجستیک</font>\n",
        "    </h2>\n",
        "    <hr>\n",
        "</div>\n",
        "\n",
        "<font face=\"vazir\" size=4><div dir=rtl>\n",
        "**رگرسیون لجستیک** یک روش آماری است که برای مسائل طبقه بندی باینری استفاده می شود. این یک الگوریتم تجزیه و تحلیل پیش بینی کننده بر اساس مفهوم احتمال است. بر خلاف رگرسیون خطی که مقادیر پیوسته را خروجی می دهد، رگرسیون لجستیک خروجی خود را با استفاده از تابع سیگموئید (sigmoid) لجستیک برای برگرداندن یک مقدار احتمال تبدیل می‌کند.\n",
        "<br>\n",
        "**تابع لجستیک** که با نام **تابع سیگموئید** نیز شناخته می‌شود، یک منحنی S شکل است که می‌تواند هر عدد با ارزش واقعی را بگیرد و آن را به مقداری بین 0 و 1 ترسیم کند، اما هرگز دقیقاً در آن حد نیست. این ویژگی آن را برای کاربرد در مسائل طبقه بندی باینری مناسب می کند.\n",
        "نمایش ریاضی مدل رگرسیون لجستیک تبدیلی از مدل رگرسیون خطی است که برای مسائل طبقه بندی باینری مناسب است. تبدیل از طریق تابع لجستیک انجام می شود، که تضمین می کند که خروجی مدل بین 0 و 1 قرار دارد.\n",
        "فرمول ریاضی رگرسیون لجستیک:\n",
        "$$ P(Y=1) = \\frac{1}{1 + e^{-(b_0 + b_1X)}} $$\n",
        "<br>\n",
        "در اینجا، $P(Y=1)$ احتمال وقوع رویداد است (یعنی Y=1)، $b_0$ و $b_1$ پارامترهای مدل هستند، و $X$ مقدار ویژگی ورودی است. عبارت $e^{-(b_0 + b_1X)}$ تابع نمایی است که معکوس تابع لگاریتم طبیعی است. تابع سیگموئید هر ورودی $X$ را به خروجی بین 0 و 1 ترسیم می کند که می تواند به عنوان یک احتمال در نظر گرفته شود.\n",
        "<br>\n",
        "پارامترهای $b_0$ و $b_1$ با استفاده از روشی به نام برآورد احتمال حداکثری (MLE) تخمین زده می شوند. MLE یک تابع درستنمایی را تنظیم می کند و پارامترهایی را که این احتمال را به حداکثر می رساند، حل می کند. به زبان ساده، MLE سعی می کند پارامترهایی را بیابد که تحت آنها نتیجه مشاهده شده محتمل ترین است.\n",
        "\n",
        "</div></font>\n",
        "<div align=center>\n",
        "<img src=\"/content/resource/1.png\" width=\"400\">\n",
        "</div>    "
      ],
      "metadata": {
        "id": "VhCxCVwEzqQH"
      },
      "id": "VhCxCVwEzqQH"
    },
    {
      "cell_type": "markdown",
      "source": [
        "<div dir=rtl id=\"desicion\">\n",
        "    <h2>\n",
        "        <font face=\"vazir\" color=#FF8C00 size=6>درخت تصمیم</font>    </h2>\n",
        "    <hr>\n",
        "</div>\n",
        "\n",
        "<font face=\"vazir\" size=4><div dir=rtl>\n",
        "درخت تصمیم نوعی از یادگیری ماشینی نظارت شده  (Supervised Machine Learning) است که در آن داده ها به طور مداوم بر اساس پارامتر خاصی تقسیم می شوند. حال به بخش های مختلف آن می پردازیم:\n",
        "<font face=\"vazir\" size=4><div dir=rtl>\n",
        "<br>\n",
        "1) نمایش درخت: درخت تصمیم به صورت وارونه و ریشه آن در بالا کشیده می شود. راس داخلی یک ویژگی را نشان می دهد، و هر شاخه نشان دهنده نتیجه آن ویژگی است، در حالی که هر راس برگ دارای یک برچسب کلاس (تصمیم) است.\n",
        "<br>\n",
        "2) آنتروپی: آنتروپی (Entropy) معیاری از تصادفی بودن اطلاعات در حال پردازش است. هر چه آنتروپی بالاتر باشد، نتیجه گیری از آن اطلاعات دشوارتر است. از نظر ریاضی، می توان آن را با استفاده از فرمول محاسبه کرد: $$Entropy(S) = - \\sum_{i=1}^{n} p_i \\log_2 p_i$$ که $S$ کل فضای نمونه و $p_i$ است کسری از کل نمونه که به کلاس $i$ تعلق دارد.\n",
        "<br>\n",
        "3) بهره اطلاعات: بهره اطلاعات (Information Gain) بر اساس کاهش آنتروپی پس از تقسیم مجموعه داده بر روی یک ویژگی است. ساختن درخت تصمیم همه چیز در مورد یافتن ویژگی هایی است که بالاترین سود اطلاعات را برمی گرداند. می توان آن را با استفاده از: $$IG(S, A) = Entropy(S) - \\sum_{v \\in Values(A)} \\frac{|S_v|}{|S|} Entropy(S_v)$$ که در آن $S_v$ زیرمجموعه $S$ است که ویژگی $A$ برای آن مقدار $v$ دارد.\n",
        "<br>\n",
        "4) شاخص جینی: شاخص جینی (Gini Index) که به عنوان ناخالصی جینی نیز شناخته می شود، میزان احتمال یک ویژگی خاص را محاسبه می کند که در صورت انتخاب تصادفی به اشتباه طبقه بندی می شود. اگر همه عناصر با یک کلاس مرتبط باشند، می توان آن را خالص نامید. می توان آن را با استفاده از: $$Gini(S) = 1 - \\sum_{i=1}^{n} (p_i)^2$$ محاسبه کرد\n",
        "<br>\n",
        "5) هرس: هرس (Pruning) یکی از تکنیک هایی است که برای رفع بیش از حد استفاده می شود. ما اساساً گره هایی را حذف می کنیم که قدرت پیش بینی کمی برای مشکل در دست اضافه می کنند. دو نوع هرس عبارتند از: هرس با خطای کاهش یافته و هرس با پیچیدگی هزینه.\n",
        "این مفاهیم ریاضی اساس درخت های تصمیم گیری و عملکرد آنها در یادگیری ماشین را تشکیل می دهند.\n",
        "</div></font>\n",
        "        <div align=center>\n",
        "<br>\n",
        "<img src=\"resource/5.jpeg\" width=\"400\">\n",
        "</div>    \n",
        "\n"
      ],
      "metadata": {
        "id": "4QlVtH2n4FsL"
      },
      "id": "4QlVtH2n4FsL"
    },
    {
      "cell_type": "markdown",
      "source": [
        "<div dir=rtl id=\"core\">\n",
        "    <h1>\n",
        "        <font face=\"vazir\" color=#0000CD size=7>مفاهیم اصلی</font>\n",
        "    </h1>\n",
        "    <hr>\n",
        "</div>\n"
      ],
      "metadata": {
        "id": "7CGi_XjH6tYJ"
      },
      "id": "7CGi_XjH6tYJ"
    },
    {
      "cell_type": "markdown",
      "id": "b704435b-b4c1-462d-a07b-122df35f3ad5",
      "metadata": {
        "id": "b704435b-b4c1-462d-a07b-122df35f3ad5"
      },
      "source": [
        "<div dir=rtl id=\"loss\">\n",
        "    <h2>\n",
        "        <font face=\"vazir\" color=#FF8C00 size=6>Loss Function </font>\n",
        "    </h2>\n",
        "    <hr>\n",
        "</div>\n",
        "\n",
        "<font face=\"vazir\" size=4><div dir=rtl>\n",
        "**Loss Function**: در یادگیری ماشینی، تابع ضرر یا (loss function) روشی است برای ارزیابی اینکه الگوریتم شما چگونه مجموعه داده شما را مدل می کند. اگر پیش‌بینی‌های شما کاملاً تصادفی و بی هدف باشد، تابع ضرر شما عدد بالاتری را تولید می‌کند. اگر پیش بینی ها خیلی خوب باشند، عدد کمتری را تولید می کند. همانطور که بخش هایی از الگوریتم خود را برای بهبود مدل خود تغییر می دهید، تابع ضرر شما به شما می گوید که آیا به هدف نزدیک می شوید یا خیر. انواع مختلفی از توابع ضرر مانند میانگین مربعات خطا (Mean Squared Error) برای مشکلات رگرسیون یا آنتروپی متقاطع (Cross Entropy) برای مسائل طبقه بندی وجود دارد. انتخاب تابع ضرر بستگی به مشکل موجود دارد.\n",
        "\n",
        "</div></font>\n",
        "<div align=center>\n",
        "<br>\n",
        "<img src=\"resource/4.png\" width=\"400\">\n",
        "</div>"
      ]
    },
    {
      "cell_type": "markdown",
      "source": [
        "<div dir=rtl id=\"valid\">\n",
        "    <h2>\n",
        "        <font face=\"vazir\" color=#FF8C00 size=6>Validation </font>\n",
        "    </h2>\n",
        "    <hr>\n",
        "</div>\n",
        "\n",
        "<font face=\"vazir\" size=4><div dir=rtl>\n",
        "**Validation**: اعتبار سنجی یا (Validation) در یادگیری ماشینی فرآیندی است که در آن یک مدل آموزش دیده با مجموعه داده های آزمایشی ارزیابی می شود. مجموعه داده‌های تست بخشی جداگانه از همان مجموعه داده‌ای است که مجموعه آموزشی از آن مشتق شده است. هدف اصلی استفاده از فرآیند اعتبار سنجی در یادگیری ماشین، به دست آوردن میزان خطای مدل است که می تواند به عنوان یک تخمین بی طرفانه از نحوه عملکرد مدل بر روی داده های دیده نشده در نظر گرفته شود. اعتبارسنجی به انتخاب مدل و تنظیم فراپارامترها (hyperparameters) کمک می کند. تکنیک‌های اعتبارسنجی مختلفی مانند train-test split ، اعتبارسنجی متقاطع  (k-fold cross-validation)  و leave-one-out cross-validation وجود دارد.\n",
        "</div></font>\n",
        "        <div align=center>\n",
        "<br>\n",
        "\n",
        "<img src=\"resource/3.jpg\" width=\"400\">\n",
        "</div>\n",
        "<br>\n",
        "<font face=\"vazir\" size=4><div dir=rtl>\n",
        "\n",
        "</div></font>\n"
      ],
      "metadata": {
        "id": "4m2BD_TEFlZe"
      },
      "id": "4m2BD_TEFlZe"
    },
    {
      "cell_type": "markdown",
      "source": [
        "<div dir=rtl id=\"acc\">\n",
        "    <h2>\n",
        "        <font face=\"vazir\" color=#FF8C00 size=6>درستی </font>\n",
        "    </h2>\n",
        "    <hr>\n",
        "</div>\n",
        "\n",
        "<font face=\"vazir\" size=4><div dir=rtl>\n",
        "درستی (Accuracy) یکی از ساده ترین معیارهای مورد استفاده در یادگیری ماشینی است. این معیار نسبتی از پیش‌بینی‌هایی را که مدل ما درست انجام داده است محاسبه می‌کند. به طور رسمی، درستی تعریف زیر را دارد:\n",
        "</div></font>\n",
        "\n",
        "<font face=\"vazir\" size=4><div dir=rtl>\n",
        "$$\\text{درستی} = \\frac{\\text{تعداد پیش بینی درست }}{\\text{تعداد کل پیش بینی ها}}$$\n",
        "\n",
        "</div></font>\n",
        "\n",
        "\n"
      ],
      "metadata": {
        "id": "Goie7Imqdsts"
      },
      "id": "Goie7Imqdsts"
    },
    {
      "cell_type": "markdown",
      "source": [
        "<div dir=rtl id=\"cu\">\n",
        "    <h2>\n",
        "        <font face=\"vazir\" color=#FF8C00 size=6>ماتریس confusion </font>\n",
        "    </h2>\n",
        "    <hr>\n",
        "</div>\n",
        "\n",
        "<font face=\"vazir\" size=4><div dir=rtl>\n",
        "ماتریس confusion جدولی است که اغلب برای توصیف عملکرد یک مدل طبقه‌بندی (یا «طبقه‌بندی‌کننده») روی مجموعه‌ای از داده‌های آزمایشی که مقادیر واقعی آن‌ها مشخص است، استفاده می‌شود. عملکرد مدل را با نمایش تعداد مثبت های واقعی (TP)، منفی های واقعی (TN)، مثبت های کاذب (FP) و منفی های کاذب (FN) تولید شده توسط مدل بر روی داده های آزمایشی خلاصه می کند.\n",
        "</div></font>\n",
        "        <div align=center>\n",
        "<br>\n",
        "\n",
        "<img src=\"resource/8.png\" width=\"400\">\n",
        "</div>\n",
        "\n"
      ],
      "metadata": {
        "id": "a4qbZkwcos6w"
      },
      "id": "a4qbZkwcos6w"
    },
    {
      "cell_type": "markdown",
      "source": [
        "<div dir=rtl id=\"valid\">\n",
        "    <h2>\n",
        "        <font face=\"vazir\" color=#FF8C00 size=6>دقت </font>\n",
        "    </h2>\n",
        "    <hr>\n",
        "</div>\n",
        "\n",
        "<font face=\"vazir\" size=4><div dir=rtl>\n",
        "دقت (Precision) تلاش می‌کند به این سوال پاسخ دهد: چه نسبتی از شناسایی‌های مثبت واقعاً درست هستند؟ به صورت زیر تعریف می شود:\n",
        "</div></font>\n",
        "\n",
        "<font face=\"vazir\" size=4><div dir=rtl>\n",
        "$$\\text{Precision} = \\frac{\\text{TP}}{\\text{TP} + \\text{FP}}$$\n",
        "</div></font>\n",
        "\n",
        "\n"
      ],
      "metadata": {
        "id": "4Bqq4lZ7pSM5"
      },
      "id": "4Bqq4lZ7pSM5"
    },
    {
      "cell_type": "markdown",
      "source": [
        "<div dir=rtl id=\"recall\">\n",
        "    <h2>\n",
        "        <font face=\"vazir\" color=#FF8C00 size=6>Recall </font>\n",
        "    </h2>\n",
        "    <hr>\n",
        "</div>\n",
        "\n",
        "<font face=\"vazir\" size=4><div dir=rtl>\n",
        "recall که به عنوان حساسیت یا نرخ مثبت واقعی (TPR) نیز شناخته می شود، تلاش می کند به این سوال پاسخ دهد: چه نسبتی از موارد مثبت واقعی به درستی شناسایی شده است؟ به صورت زیر تعریف می شود :\n",
        "</div></font>\n",
        "\n",
        "<font face=\"vazir\" size=4><div dir=rtl>\n",
        "$$\\text{Recall} = \\frac{\\text{TP}}{\\text{TP} + \\text{FN}}$$\n",
        "</div></font>\n",
        "\n",
        "\n"
      ],
      "metadata": {
        "id": "JTOFSg2vpru3"
      },
      "id": "JTOFSg2vpru3"
    },
    {
      "cell_type": "markdown",
      "source": [
        "<div dir=rtl id=\"F\">\n",
        "    <h2>\n",
        "        <font face=\"vazir\" color=#FF8C00 size=6>امتیاز F1 </font>\n",
        "    </h2>\n",
        "    <hr>\n",
        "</div>\n",
        "\n",
        "<font face=\"vazir\" size=4><div dir=rtl>\n",
        "امتیاز F1 اندازه گیری دقت یک مدل در یک مجموعه داده است. برای ارزیابی سیستم های طبقه بندی باینری استفاده می شود که نمونه ها را به \"مثبت\" یا \"منفی\" طبقه بندی می کند. امتیاز F1 روشی برای ترکیب دقت و recall مدل است و به عنوان میانگین هارمونیک دقت و recall تعریف می شود.\n",
        "</div></font>\n",
        "\n",
        "<font face=\"vazir\" size=4><div dir=rtl>\n",
        "$$\\text{F1 Score} = 2 \\times \\frac{\\text{Precision} \\times \\text{Recall}}{\\text{Precision} + \\text{Recall}}$$\n",
        "</div></font>\n",
        "\n",
        "\n"
      ],
      "metadata": {
        "id": "eewZkf5rqDN_"
      },
      "id": "eewZkf5rqDN_"
    },
    {
      "cell_type": "markdown",
      "source": [
        "<div dir=rtl id=\"Tradeoff\">\n",
        "    <h2>\n",
        "        <font face=\"vazir\" color=#FF8C00 size=6> Precision/Recall Tradeoff\n",
        " </font>\n",
        "    </h2>\n",
        "    <hr>\n",
        "</div>\n",
        "\n",
        "<font face=\"vazir\" size=4><div dir=rtl>\n",
        "برای ارزیابی کامل اثربخشی یک مدل، باید دقت و recall را بررسی کنید. متأسفانه، دقت و recall اغلب در تنش هستند. یعنی بهبود دقت معمولاً recall را کاهش می‌دهد و بالعکس. به این مبادله Precision-Recall گفته می شود.\n",
        "</div></font>\n",
        "\n",
        "\n",
        "\n"
      ],
      "metadata": {
        "id": "2naiXUtDqpl3"
      },
      "id": "2naiXUtDqpl3"
    },
    {
      "cell_type": "markdown",
      "source": [
        "<div dir=rtl id=\"ROC\">\n",
        "    <h2>\n",
        "        <font face=\"vazir\" color=#FF8C00 size=6> ROC\n",
        " </font>\n",
        "    </h2>\n",
        "    <hr>\n",
        "</div>\n",
        "\n",
        "<font face=\"vazir\" size=4><div dir=rtl>\n",
        "منحنی ROC (منحنی مشخصه عملکرد گیرنده یا receiver operating characteristic curve) نموداری است که عملکرد یک مدل طبقه‌بندی را در تمام آستانه‌های طبقه‌بندی نشان می‌دهد. این منحنی دو پارامتر را ترسیم می کند: نرخ مثبت واقعی (TPR) و نرخ مثبت کاذب (FPR)\n",
        "</div></font>\n",
        "\n",
        "\n",
        "\n"
      ],
      "metadata": {
        "id": "nn4RaEddrC1-"
      },
      "id": "nn4RaEddrC1-"
    },
    {
      "cell_type": "markdown",
      "source": [
        "<div dir=rtl id=\"AUC\">\n",
        "    <h2>\n",
        "        <font face=\"vazir\" color=#FF8C00 size=6> AUC\n",
        " </font>\n",
        "    </h2>\n",
        "    <hr>\n",
        "</div>\n",
        "\n",
        "<font face=\"vazir\" size=4><div dir=rtl>\n",
        "AUC مخفف \"منطقه زیر منحنی ROC\" است.  AUC کل ناحیه دو بعدی زیر منحنی ROC را اندازه گیری می کند ویک معیار کلی از عملکرد در تمام آستانه های طبقه بندی ممکن را ارائه می دهد.\n",
        "</div></font>\n",
        "        <div align=center>\n",
        "<br>\n",
        "\n",
        "<img src=\"resource/9.png\" width=\"400\">\n",
        "</div>\n",
        "\n",
        "\n"
      ],
      "metadata": {
        "id": "x0SiQFlCrUZd"
      },
      "id": "x0SiQFlCrUZd"
    },
    {
      "cell_type": "markdown",
      "source": [
        "<div dir=rtl id=\"Regularization\">\n",
        "    <h2>\n",
        "        <font face=\"vazir\" color=#FF8C00 size=6>Regularization </font>\n",
        "    </h2>\n",
        "    <hr>\n",
        "</div>\n",
        "\n",
        "<font face=\"vazir\" size=4><div dir=rtl>\n",
        "**Regularization**: منظم سازی  (Regularization) تکنیکی است که برای جلوگیری از\n",
        "تطبیق بیش از حد (overfitting) با افزودن یک عبارت جریمه اضافی (penalty) به تابع ضرر استفاده می شود. با افزایش بزرگی این عبارت، پیچیدگی مدل با کوچک کردن ضرایب ویژگی‌ها به صفر کاهش می‌یابد. این کار کمک می کند تا اطمینان حاصل شود که مدل به شدت به هیچ ویژگی واحدی تکیه نمی کند و بهتر به داده های دیده نشده تعمیم می یابد. انواع مختلفی از تکنیک های منظم سازی مانند L1 (Lasso)، L2 (Ridge) و منظم سازی شبکه الاستیک (Elastic Net regularization) وجود دارد.\n",
        "</div></font>\n",
        "    <div align=center>\n",
        "<br>\n",
        "<img src=\"resource/2.png\" width=\"400\">\n",
        "</div>"
      ],
      "metadata": {
        "id": "_A0zEAJVF31v"
      },
      "id": "_A0zEAJVF31v"
    },
    {
      "cell_type": "markdown",
      "source": [
        "<div dir=rtl id=\"Bias\">\n",
        "    <h2>\n",
        "        <font face=\"vazir\" color=#FF8C00 size=6>Bias-Variance Tradeoff </font>\n",
        "    </h2>\n",
        "    <hr>\n",
        "</div>\n",
        "\n",
        "<font face=\"vazir\" size=4><div dir=rtl>\n",
        "**Bias-Variance Tradeoff**: مبادله بایاس-واریانس یک مشکل اصلی در یادگیری نظارت شده است. در حالت ایده‌آل، فرد می‌خواهد مدلی را انتخاب کند که هم نظم‌های موجود در داده‌های آموزشی خود را به‌طور دقیق ثبت کند، بلکه به خوبی به داده‌های دیده نشده تعمیم دهد. متأسفانه، انجام هر دو به طور همزمان غیرممکن است. الگوریتم‌های یادگیری با بایاس بالا معمولاً ساده تر هستند. آنها واریانس کمتری در پیش بینی های خود دارند. از سوی دیگر، الگوریتم‌های یادگیری با واریانس بالا، انعطاف‌پذیری و پیچیدگی بیشتری دارند و به آن‌ها اجازه می‌دهد تا طیف وسیعی از توابع را پیاده سازی کنند. با این حال، آنها بیشتر مستعد تطبیق بیش از حد (overfitting) هستند و ممکن است به خوبی به داده های دیده نشده تعمیم داده نشود.\n",
        "\n",
        "</div></font>\n",
        "<div align=center>\n",
        "<br>\n",
        "<img src=\"resource/1.png\" width=\"400\">\n",
        "</div>    "
      ],
      "metadata": {
        "id": "xJXL3qkHF4M2"
      },
      "id": "xJXL3qkHF4M2"
    },
    {
      "cell_type": "markdown",
      "id": "96a9e7c0-a059-4dd9-8d7c-b23c5865d575",
      "metadata": {
        "id": "96a9e7c0-a059-4dd9-8d7c-b23c5865d575"
      },
      "source": [
        "<div dir=rtl id=\"Ensemble\">\n",
        "    <h1>\n",
        "        <font face=\"vazir\" color=#0000CD size=7>  Ensemble Methods</font>\n",
        "    </h1>\n",
        "    <hr>\n",
        "</div>\n",
        "\n",
        "<div dir=rtl><font face=\"vazir\" size=4>\n",
        "روش‌های گروهی یا (Ensemble) در یادگیری ماشینی تکنیک‌هایی هستند که چندین مدل را ایجاد می‌کنند و سپس آنها را برای تولید نتایج بهبودیافته ترکیب می‌کنند. روش‌های گروهی  با غلبه بر محدودیت‌های یک مدل، دقت را افزایش می‌دهند\n",
        "</div> </font>"
      ]
    },
    {
      "cell_type": "markdown",
      "id": "dfd42a52-cab6-400d-b9a8-8239c7844c62",
      "metadata": {
        "id": "dfd42a52-cab6-400d-b9a8-8239c7844c62"
      },
      "source": [
        "<div dir=rtl id=\"Bagging\">\n",
        "    <h2>\n",
        "        <font face=\"vazir\" color=#FF8C00 size=6> Bagging</font>\n",
        "    </h2>\n",
        "    <hr>\n",
        "</div>\n",
        "<font face=\"vazir\" size=4><div dir=rtl>    \n",
        "Bootstrap Aggregating که اغلب به اختصار Bagging نامیده می شود، یک الگوریتم یادگیری ماشینی قدرتمند است. این  روش برای بهبود پایداری و دقت الگوریتم‌های یادگیری ماشینی مورد استفاده در طبقه‌بندی آماری و رگرسیون طراحی شده است. همچنین واریانس را کاهش می دهد و به جلوگیری از برازش بیش از حد کمک می کند. اگرچه معمولاً برای روش های درخت تصمیم استفاده می شود، اما می توان آن را با هر نوع روشی استفاده کرد.\n",
        "<br>\n",
        "درک مفهوم Bagging بسیار ساده است. فرض کنید یک مجموعه داده با اندازه N داریم. Bagging  با ایجاد چندین زیرمجموعه از مجموعه داده اصلی، با جایگزینی کار می کند (به این معنی که برخی از نمونه ها ممکن است در هر زیر مجموعه تکرار شوند). هر زیر مجموعه به اندازه مجموعه داده اصلی است.\n",
        "<br>\n",
        "از نظر ریاضی، اگر یک مجموعه داده D به اندازه N داشته باشیم، Bagging  تعداد m  مجموعه آموزشی جدید D_i را تولید می کند، هر کدام در اندازه N، با نمونه برداری یکنواخت و با تعویض از D. با نمونه برداری با جایگزینی، برخی از مشاهدات ممکن است در هر D_i تکرار شوند.\n",
        "<br>\n",
        "سپس هر یک از این زیر مجموعه ها برای آموزش یک مدل جداگانه استفاده می شود. پس از آموزش تمام مدل ها، برای ورودی جدید، هر مدل برای پیش بینی خروجی (در صورت رگرسیون) یا برچسب کلاس (در صورت طبقه بندی) استفاده می شود و پیش بینی خروجی نهایی با میانگین گیری خروجی (در صورت وجود) محاسبه می شود یا با اخذ اکثریت رای (Majority vote) .از نظر ریاضی، برای نمونه جدید x، اگر پیش‌بینی هر مدل را به صورت Y_i(x) نشان دهیم، پیش‌بینی نهایی Y(x) با:\n",
        "$$Y(x) = \\frac{1}{m}\\sum_{i=1}^{m}Y_i(x)$$\n",
        "برای رگرسیون، یا:\n",
        "$$Y(x) = \\text{اکثریت}\\{Y_1(x)، Y_2(x)، ...، Y_m(x)\\}$$\n",
        "<br>\n",
        "برای طبقه بندی  استفاده می شود.\n",
        "به این ترتیب،  Bagging به کاهش خطای واریانس و بهبود استحکام مدل کمک می کند و آن را به یک تکنیک بسیار موثر در یادگیری ماشین تبدیل می کند.\n",
        "\n",
        "</div></font>\n",
        "\n",
        "<br>\n",
        "<div align=center>\n",
        "<img src=\"/content/resource/7.png\" width=\"800\">\n",
        "</div>\n",
        "    "
      ]
    },
    {
      "cell_type": "markdown",
      "id": "0bbf23f9-248b-49df-a2d4-26d74e1ce317",
      "metadata": {
        "id": "0bbf23f9-248b-49df-a2d4-26d74e1ce317"
      },
      "source": [
        "<div dir=rtl id=\"GD-MMC\">\n",
        "    <h2>\n",
        "        <font family=\"vazir\" color=#FF8C00 size=6>Boosting</font>\n",
        "    </h2>\n",
        "    <hr>\n",
        "</div>\n",
        "<div dir=rtl><font face=\"vazir\" size=4>\n",
        "\n",
        "</font></div>"
      ]
    }
  ],
  "metadata": {
    "kernelspec": {
      "display_name": "Python 3 (ipykernel)",
      "language": "python",
      "name": "python3"
    },
    "language_info": {
      "codemirror_mode": {
        "name": "ipython",
        "version": 3
      },
      "file_extension": ".py",
      "mimetype": "text/x-python",
      "name": "python",
      "nbconvert_exporter": "python",
      "pygments_lexer": "ipython3",
      "version": "3.10.6"
    },
    "colab": {
      "provenance": []
    }
  },
  "nbformat": 4,
  "nbformat_minor": 5
}